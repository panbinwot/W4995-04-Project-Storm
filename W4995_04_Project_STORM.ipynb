{
  "nbformat": 4,
  "nbformat_minor": 0,
  "metadata": {
    "colab": {
      "name": "W4995_04_Project_STORM.ipynb",
      "provenance": [],
      "collapsed_sections": [],
      "machine_shape": "hm"
    },
    "kernelspec": {
      "name": "python3",
      "display_name": "Python 3"
    },
    "accelerator": "GPU"
  },
  "cells": [
    {
      "cell_type": "code",
      "metadata": {
        "id": "Ls3EIKQ_VkXo",
        "colab_type": "code",
        "outputId": "4906c5fb-30d0-487c-c660-6677d7314679",
        "colab": {
          "base_uri": "https://localhost:8080/",
          "height": 49
        }
      },
      "source": [
        "# from google.colab import drive\n",
        "# drive.mount('/content/gdrive')\n",
        "# %cd \"/content/gdrive/My Drive/W499504_Optimization_ML/Project/\""
      ],
      "execution_count": 0,
      "outputs": [
        {
          "output_type": "stream",
          "text": [
            "Drive already mounted at /content/gdrive; to attempt to forcibly remount, call drive.mount(\"/content/gdrive\", force_remount=True).\n",
            "/content/gdrive/My Drive/W499504_Optimization_ML/Project\n"
          ],
          "name": "stdout"
        }
      ]
    },
    {
      "cell_type": "code",
      "metadata": {
        "id": "s5Q_ccXPRJih",
        "colab_type": "code",
        "colab": {}
      },
      "source": [
        "import os\n",
        "import numpy as np\n",
        "import _pickle as pickle\n",
        "\n",
        "import torch\n",
        "import torchvision\n",
        "import torch.nn as nn\n",
        "import torchvision.models as models\n",
        "\n",
        "import matplotlib.pyplot as plt\n",
        "from tqdm import tqdm_notebook\n",
        "\n",
        "from torch.autograd import Variable\n",
        "from torch.utils.data import DataLoader\n",
        "from torch.utils.data import Dataset"
      ],
      "execution_count": 0,
      "outputs": []
    },
    {
      "cell_type": "markdown",
      "metadata": {
        "id": "apNby7XnVVLJ",
        "colab_type": "text"
      },
      "source": [
        "Define some helper functions"
      ]
    },
    {
      "cell_type": "code",
      "metadata": {
        "id": "MGLkUOzVP58f",
        "colab_type": "code",
        "colab": {}
      },
      "source": [
        "def convert(data):\n",
        "    if isinstance(data, bytes):  return data.decode('ascii')\n",
        "    if isinstance(data, dict):   return dict(map(convert, data.items()))\n",
        "    if isinstance(data, tuple):  return map(convert, data)\n",
        "    return data\n",
        "\n",
        "def _read_data(data_path, train_files):\n",
        "    images, labels = [], []\n",
        "    for file_name in train_files:\n",
        "        full_name = os.path.join(data_path, file_name)\n",
        "        print(full_name)\n",
        "        with open(full_name, mode='rb') as finp:\n",
        "            data = pickle.load(finp, encoding='bytes')\n",
        "            data = convert(data)\n",
        "            batch_images = data[\"data\"].astype(np.float32) / 255.0\n",
        "            batch_labels = np.array(data[\"labels\"], dtype=np.int32)\n",
        "            images.append(batch_images)\n",
        "            labels.append(batch_labels)\n",
        "    images, labels = np.concatenate(images, axis=0), np.concatenate(labels, axis=0)\n",
        "    images = np.reshape(images, [-1, 3, 32, 32])\n",
        "    images = np.transpose(images, [0, 2, 3, 1])\n",
        "\n",
        "    return images, labels\n",
        "\n",
        "\n",
        "def read_data(data_path):  \n",
        "    print(\"Read data\")\n",
        "\n",
        "    images, labels = {}, {}\n",
        "\n",
        "    train_files = [\n",
        "        \"data_batch_1\",\n",
        "        \"data_batch_2\",\n",
        "        \"data_batch_3\",\n",
        "        \"data_batch_4\",\n",
        "        \"data_batch_5\",\n",
        "    ]\n",
        "    test_file = [\n",
        "        \"test_batch\",\n",
        "    ]\n",
        "    images[\"train\"], labels[\"train\"] = _read_data(data_path, train_files)\n",
        "\n",
        "    images[\"test\"], labels[\"test\"] = _read_data(data_path, test_file)\n",
        "    \n",
        "    # Normalization\n",
        "    print(\"Prepropcess: [subtract mean], [divide std]\")\n",
        "    mean = np.mean(images[\"train\"], axis=(0, 1, 2), keepdims=True)\n",
        "    std = np.std(images[\"train\"], axis=(0, 1, 2), keepdims=True)\n",
        "\n",
        "    print(\"mean: {}\".format(np.reshape(mean * 255.0, [-1])))\n",
        "    print(\"std: {}\".format(np.reshape(std * 255.0, [-1])))\n",
        "\n",
        "    images[\"train\"] = (images[\"train\"] - mean) / std\n",
        "    images[\"test\"] = (images[\"test\"] - mean) / std\n",
        "    \n",
        "    labels['train'] = labels['train'].astype(np.long)\n",
        "\n",
        "    return images, labels, mean, std\n",
        "    \n",
        "def plot(arrays, labels, dim, y_label):\n",
        "    for arr, label in zip(arrays, labels):\n",
        "        plt.plot(arr[dim], label=label)\n",
        "    plt.legend()\n",
        "    plt.xlabel(\"Steps\")\n",
        "    plt.ylabel(y_label)\n",
        "    plt.show()\n",
        "    plt.savefig('./image_output/{}.png'.format(y_label))\n",
        "    return\n",
        "\n",
        "class LoadBatch(Dataset):\n",
        "    def __init__(self, X, y):\n",
        "        self.X = X\n",
        "        self.y = y\n",
        "    \n",
        "    def __len__(self):\n",
        "        dataset_size = len(self.X)\n",
        "        return dataset_size\n",
        "    \n",
        "    def __getitem__(self, idx):\n",
        "        X_batch = self.X[idx]\n",
        "        y_batch = self.y[idx]\n",
        "        return X_batch, y_batch"
      ],
      "execution_count": 0,
      "outputs": []
    },
    {
      "cell_type": "markdown",
      "metadata": {
        "id": "GkpX_Q_akttR",
        "colab_type": "text"
      },
      "source": [
        "Build a train function"
      ]
    },
    {
      "cell_type": "code",
      "metadata": {
        "id": "RDIcMtCWpoUQ",
        "colab_type": "code",
        "colab": {}
      },
      "source": [
        "def train(train_loader, test_loader, net, optimizer, criterion, epochs, max_iter_per_epoch=None,\n",
        "\t\t  test_freq=100, istest=True, verbose=True, isStorm = True):\n",
        "\ttrain_loss_lst = []\n",
        "\ttrain_acc_lst = []\n",
        "\ttest_acc_lst = []\n",
        "\n",
        "\ti = 0\n",
        "\tfor epoch in range(epochs):\n",
        "\t\tfor (j,data) in enumerate(train_loader,0):\n",
        "\t\t\tnet.train()\n",
        "\t\t\tbatch_x = data[0].cuda()\n",
        "\t\t\tbatch_y = data[1].cuda()\n",
        "\t\t\tif isStorm:\n",
        "\t\t\t\tif j == 0:\n",
        "\t\t\t\t\toptimizer.zero_grad()\n",
        "\t\t\t\t\toutputs = net(batch_x)\n",
        "\t\t\t\t\tloss = criterion(outputs, batch_y)\n",
        "\t\t\t\t\tloss.backward()\n",
        "\t\t\t\t\toptimizer.init_step()\n",
        "\t\t\t\t\tcontinue\n",
        "\t\t\t\toptimizer.zero_grad()\n",
        "\t\t\t\toutputs = net(batch_x)\n",
        "\t\t\t\tloss = criterion(outputs, batch_y)\n",
        "\t\t\t\tloss.backward()\n",
        "\t\t\t\toptimizer.pre_step()\n",
        "\t\t\t\t\n",
        "\t\t\t\toutputs = net(batch_x)\n",
        "\t\t\t\tloss = criterion(outputs, batch_y)\n",
        "\t\t\t\toptimizer.zero_grad()\n",
        "\t\t\t\tloss.backward()\n",
        "\t\t\t\toptimizer.post_step()\n",
        "\t\t\telse:\n",
        "\t\t\t\toptimizer.zero_grad()\n",
        "\t\t\t\toutput = net(batch_x)\n",
        "\t\t\t\tloss = criterion(output, batch_y)\n",
        "\t\t\t\tloss.backward()\n",
        "\t\t\t\toptimizer.step()\n",
        "\n",
        "\t\t\tif i % test_freq == 0:\n",
        "\t\t\t\ttrain_loss_lst.append(loss)\n",
        "\t\t\t\ttrain_acc = test(train_loader, net, optimizer, 300)      # TODO 10 -> 100\n",
        "\t\t\t\ttrain_acc_lst.append(train_acc)\n",
        "\n",
        "\t\t\t\tif istest:\n",
        "\t\t\t\t\ttest_acc = test(test_loader, net, optimizer, 300)        # TODO 10 -> 100\n",
        "\t\t\t\t\ttest_acc_lst.append(test_acc)\n",
        "\t\t\t\t\tif verbose:\n",
        "\t\t\t\t\t\tprint(\"Epoch: {}, Batch: {}, Train Accuracy: {}, Test Accuracy: {}\".format(epoch + 1, i + 1,\n",
        "\t\t\t\t\t\t\t\t\t\t\t\t\t\t\t\t\t\t\t\t\t\t\t\t   round(float(train_acc), 3),\n",
        "\t\t\t\t\t\t\t\t\t\t\t\t\t\t\t\t\t\t\t\t\t\t\t\t   round(float(test_acc), 3)))\n",
        "\t\t\t\telif verbose:\n",
        "\t\t\t\t\tprint(\"Epoch: {}, Batch: {}, Train Accuracy: {}\".format(epoch + 1, i + 1,\n",
        "\t\t\t\t\t\t\t\t\t\t\t\t\t\t\t\t\t\t\tround(float(train_acc), 3)))\n",
        "\t\n",
        "\t\t\tif max_iter_per_epoch is not None and i > max_iter_per_epoch:\n",
        "\t\t\t\tbreak\n",
        "\t\t\ti += 1\n",
        "\n",
        "\treturn train_loss_lst, train_acc_lst, test_acc_lst\n",
        "\n",
        "\n",
        "def test(testloader, net, optimizer, max_nb_batches):\n",
        "\tassert max_nb_batches > 0\n",
        "\ttest_pred, test_target = [], []\n",
        "\tnet.eval()\n",
        "\twith torch.no_grad():\n",
        "\t\tfor i, data in enumerate(testloader,0):\n",
        "\t\t\tbatch_x = data[0].cuda()\n",
        "\t\t\toptimizer.zero_grad()\n",
        "\t\t\toutputs = net(batch_x)\n",
        "\t\t\t_, predicted = torch.max(outputs.data, 1)\n",
        "\n",
        "\t\t\ttest_pred.append(predicted.cpu().detach().numpy())\n",
        "\t\t\ttest_target.append(data[1].cpu().detach().numpy())\n",
        "\t\t\tif i > max_nb_batches:\n",
        "\t\t\t\tbreak\n",
        "\t\ttest_pred = np.concatenate(test_pred).ravel()\n",
        "\t\ttest_target = np.concatenate(test_target).ravel()\n",
        "\treturn np.mean(test_pred.astype(np.int) == test_target)\n"
      ],
      "execution_count": 0,
      "outputs": []
    },
    {
      "cell_type": "code",
      "metadata": {
        "id": "Rg5nWY06OHqe",
        "colab_type": "code",
        "colab": {}
      },
      "source": [
        "import torch\n",
        "from typing import *\n",
        "from torch.optim.optimizer import Optimizer, required\n",
        "\n",
        "class Storm(Optimizer):\n",
        "    def __init__(self, params, k=0.1, w=0.1, c=1):\n",
        "        if k < 0.0:\n",
        "            raise ValueError(\"Invalid k\")\n",
        "        if w < 0.0:\n",
        "            raise ValueError(\"Invalid w\")\n",
        "        if c is not required and c < 0.0:\n",
        "            raise ValueError(\"Invalid c\")\n",
        "\n",
        "        defaults = dict(k=k, w=w, c=c)\n",
        "        super(Storm, self).__init__(params, defaults)\n",
        "\n",
        "    def __setstate__(self, state):\n",
        "        super(Storm, self).__setstate__(state)\n",
        "\n",
        "    def norm(self, tensor):\n",
        "        return torch.norm(tensor)\n",
        "\n",
        "    def init_step(self, closure=None):\n",
        "        loss = None\n",
        "        if closure is not None:\n",
        "            loss = closure()\n",
        "\n",
        "        for group in self.param_groups:\n",
        "            for p in group['params']:\n",
        "                if p.grad is None: continue\n",
        "                d_p = p.grad.data\n",
        "\n",
        "                param_state = self.state[p]\n",
        "                param_state['storm_d'] = torch.clone(d_p).detach()\n",
        "                param_state['storm_g'] = self.norm(d_p) ** 2\n",
        "        return loss\n",
        "\n",
        "    def pre_step(self, closure=None):\n",
        "        loss = None\n",
        "        if closure is not None:\n",
        "            loss = closure()\n",
        "\n",
        "        for group in self.param_groups:\n",
        "            k = group['k']\n",
        "            w = group['w']\n",
        "            c = group['c']\n",
        "\n",
        "            for p in group['params']:\n",
        "                if p.grad is None: continue\n",
        "                d_p = p.grad.data\n",
        "\n",
        "                param_state = self.state[p]\n",
        "                buf_d = param_state['storm_d']\n",
        "                buf_g = param_state['storm_g']\n",
        "                buf_lr = torch.div(k,torch.pow(w+buf_g,1/3) )\n",
        "                param_state['storm_lr'] = buf_lr\n",
        "                param_state['storm_pre_d'] = torch.clone(d_p).detach()\n",
        "                # buf_lr = k / ((w + buf_g) ** (1.0 / 3.0))\n",
        "                p.data.add_(-buf_lr, buf_d)\n",
        "        return loss\n",
        "\n",
        "    def post_step(self, closure=None):\n",
        "        loss = None\n",
        "        if closure is not None:\n",
        "            loss = closure()\n",
        "\n",
        "        for group in self.param_groups:\n",
        "            k = group['k']\n",
        "            w = group['w']\n",
        "            c = group['c']\n",
        "\n",
        "            for i, p in enumerate( group['params'], 0):\n",
        "                if p.grad is None: continue\n",
        "                d_p = p.grad.data\n",
        "                param_state = self.state[p]\n",
        "                buf_d = param_state['storm_d']\n",
        "                buf_g = param_state['storm_g']\n",
        "                buf_pre_d = param_state['storm_pre_d']\n",
        "                buf_lr = param_state['storm_lr']\n",
        "                # buf_lr = k / ((w + buf_g) ** (1 / 3))\n",
        "                buf_momentum = c * (buf_lr ** 2)\n",
        "                buf_g.add_(self.norm(d_p) ** 2)\n",
        "                if buf_momentum > 1:\n",
        "                    buf_momentum = 1\n",
        "                param_state['storm_d'] = d_p +  (1-buf_momentum )* (buf_d - buf_pre_d)\n",
        "\n",
        "                if i == 0:\n",
        "                    print(\"G: {}, lr:{}, momentum:{}\".format(self.tmp(buf_g),self.tmp(buf_lr), self.tmp(buf_momentum)) )\n",
        "        return loss\n",
        "    \n",
        "    def tmp(self, tensor):\n",
        "        return tensor.cpu().detach().numpy()\n",
        "\n",
        "\n",
        "def main():\n",
        "    if not os.path.exists('./data/'):\n",
        "        wget_cmd = 'wget https://s3-eu-west-1.amazonaws.com/bsopenbucket/e6040/data.zip'\n",
        "        unzip_cmd = 'unzip data.zip'\n",
        "        os.system(wget_cmd)\n",
        "        os.system(unzip_cmd)\n",
        "    images, labels, _, __ = read_data('data/cifar10')\n",
        "\n",
        "    batch_size = 64\n",
        "\n",
        "    print('Test data set shape:', images['test'].shape)\n",
        "    data_train = Dataset(np.moveaxis(images['train'], 3, 1), labels['train'])\n",
        "    data_test = Dataset(np.moveaxis(images['test'], 3, 1), labels['test'])\n",
        "    trainloader = DataLoader(data_train, batch_size=batch_size, shuffle=True, num_workers=2)\n",
        "    testloader = DataLoader(data_test, batch_size=batch_size, shuffle=True, num_workers=2)\n",
        "\n",
        "    criterion = nn.CrossEntropyLoss().cuda()\n",
        "\n",
        "    def search(low, high, epsilon, call_func):\n",
        "        results = [(call_func(param), param) for param in tqdm_notebook(range(low, high, epsilon))]\n",
        "        return min(results, key=lambda x: x[0])[1]\n",
        "\n",
        "    def call_storm(c):\n",
        "        net = models.resnet18(pretrained=False).cuda()\n",
        "        optim = Storm(net.parameters(), c=c)\n",
        "        res = train(trainloader, testloader, net, optim, criterion, epochs=1, max_iter_per_epoch=500, \n",
        "                    test_freq=10, no_test=True, verbose=False)\n",
        "        return sum(res[0]) / len(res[0])\n",
        "\n",
        "    best_c = 500\n",
        "    best_c = search(0, 1000, 5, call_storm)\n",
        "    print('best c is: ', best_c)\n",
        "\n",
        "    net0, net1, net2 = models.resnet18(pretrained=False).cuda(), models.resnet18(pretrained=False).cuda(), models.resnet18(pretrained=False).cuda()\n",
        "    nets = [net0, net1, net2]\n",
        "    isStorm = [True, False, False]\n",
        "    opts = [Storm(net0.parameters(), c= best_c), torch.optim.Adam(net1.parameters()), torch.optim.Adagrad(net2.parameters())]\n",
        "    file_name = ['./res18_Storm', './res18_Adam', './res18_Adagrad']\n",
        "    \n",
        "    for i, optim in enumerate(opts):\n",
        "        print('Training Net {}'.format(file_name[i].split('_')[1]))\n",
        "        res = train(trainloader, testloader, nets[i], optim, criterion, epochs=100, isStorm=isStorm[i])       # TODO epoch -> 100\n",
        "        np.save(file_name[i], res)\n",
        "\n",
        "    optim_results = []\n",
        "    optim_labels = [ \"Storm\", \"Adam\", \"Adagrad\"]\n",
        "    for name in file_name:\n",
        "        name += '.npy'\n",
        "        optim_results.append(np.load(name, allow_pickle = True))\n",
        "\n",
        "    plot(optim_results, optim_labels, 0, \"Loss\")\n",
        "    plot(optim_results, optim_labels, 1, \"Train_Accuracy\")\n",
        "    plot(optim_results, optim_labels, 2, \"Test_Accuracy\")"
      ],
      "execution_count": 0,
      "outputs": []
    },
    {
      "cell_type": "markdown",
      "metadata": {
        "id": "-uCpHgqZknqG",
        "colab_type": "text"
      },
      "source": [
        "Train the ResNet\n",
        "- Optimizers:\n",
        "  - Adam (default setup)\n",
        "  - Adagrad (default setup)\n",
        "  - Storm (To be implemneted)\n",
        "- loss: Cross-entropy"
      ]
    },
    {
      "cell_type": "code",
      "metadata": {
        "id": "pxUbXd54ldvr",
        "colab_type": "code",
        "outputId": "1c038ca4-bd5a-4564-c7ba-33e0e51100c6",
        "colab": {
          "base_uri": "https://localhost:8080/",
          "height": 455
        }
      },
      "source": [
        "main()"
      ],
      "execution_count": 0,
      "outputs": [
        {
          "output_type": "stream",
          "text": [
            "Read data\n",
            "data/cifar10/data_batch_1\n",
            "data/cifar10/data_batch_2\n",
            "data/cifar10/data_batch_3\n",
            "data/cifar10/data_batch_4\n",
            "data/cifar10/data_batch_5\n",
            "data/cifar10/test_batch\n",
            "Prepropcess: [subtract mean], [divide std]\n",
            "mean: [125.30723 122.95053 113.86535]\n",
            "std: [62.993362 62.088478 66.70482 ]\n",
            "Test data set shape: (10000, 32, 32, 3)\n"
          ],
          "name": "stdout"
        },
        {
          "output_type": "error",
          "ename": "TypeError",
          "evalue": "ignored",
          "traceback": [
            "\u001b[0;31m---------------------------------------------------------------------------\u001b[0m",
            "\u001b[0;31mTypeError\u001b[0m                                 Traceback (most recent call last)",
            "\u001b[0;32m<ipython-input-9-263240bbee7e>\u001b[0m in \u001b[0;36m<module>\u001b[0;34m()\u001b[0m\n\u001b[0;32m----> 1\u001b[0;31m \u001b[0mmain\u001b[0m\u001b[0;34m(\u001b[0m\u001b[0;34m)\u001b[0m\u001b[0;34m\u001b[0m\u001b[0;34m\u001b[0m\u001b[0m\n\u001b[0m",
            "\u001b[0;32m<ipython-input-8-abb9077695dd>\u001b[0m in \u001b[0;36mmain\u001b[0;34m()\u001b[0m\n\u001b[1;32m    104\u001b[0m \u001b[0;34m\u001b[0m\u001b[0m\n\u001b[1;32m    105\u001b[0m     \u001b[0mprint\u001b[0m\u001b[0;34m(\u001b[0m\u001b[0;34m'Test data set shape:'\u001b[0m\u001b[0;34m,\u001b[0m \u001b[0mimages\u001b[0m\u001b[0;34m[\u001b[0m\u001b[0;34m'test'\u001b[0m\u001b[0;34m]\u001b[0m\u001b[0;34m.\u001b[0m\u001b[0mshape\u001b[0m\u001b[0;34m)\u001b[0m\u001b[0;34m\u001b[0m\u001b[0;34m\u001b[0m\u001b[0m\n\u001b[0;32m--> 106\u001b[0;31m     \u001b[0mdata_train\u001b[0m \u001b[0;34m=\u001b[0m \u001b[0mDataset\u001b[0m\u001b[0;34m(\u001b[0m\u001b[0mnp\u001b[0m\u001b[0;34m.\u001b[0m\u001b[0mmoveaxis\u001b[0m\u001b[0;34m(\u001b[0m\u001b[0mimages\u001b[0m\u001b[0;34m[\u001b[0m\u001b[0;34m'train'\u001b[0m\u001b[0;34m]\u001b[0m\u001b[0;34m,\u001b[0m \u001b[0;36m3\u001b[0m\u001b[0;34m,\u001b[0m \u001b[0;36m1\u001b[0m\u001b[0;34m)\u001b[0m\u001b[0;34m,\u001b[0m \u001b[0mlabels\u001b[0m\u001b[0;34m[\u001b[0m\u001b[0;34m'train'\u001b[0m\u001b[0;34m]\u001b[0m\u001b[0;34m)\u001b[0m\u001b[0;34m\u001b[0m\u001b[0;34m\u001b[0m\u001b[0m\n\u001b[0m\u001b[1;32m    107\u001b[0m     \u001b[0mdata_test\u001b[0m \u001b[0;34m=\u001b[0m \u001b[0mDataset\u001b[0m\u001b[0;34m(\u001b[0m\u001b[0mnp\u001b[0m\u001b[0;34m.\u001b[0m\u001b[0mmoveaxis\u001b[0m\u001b[0;34m(\u001b[0m\u001b[0mimages\u001b[0m\u001b[0;34m[\u001b[0m\u001b[0;34m'test'\u001b[0m\u001b[0;34m]\u001b[0m\u001b[0;34m,\u001b[0m \u001b[0;36m3\u001b[0m\u001b[0;34m,\u001b[0m \u001b[0;36m1\u001b[0m\u001b[0;34m)\u001b[0m\u001b[0;34m,\u001b[0m \u001b[0mlabels\u001b[0m\u001b[0;34m[\u001b[0m\u001b[0;34m'test'\u001b[0m\u001b[0;34m]\u001b[0m\u001b[0;34m)\u001b[0m\u001b[0;34m\u001b[0m\u001b[0;34m\u001b[0m\u001b[0m\n\u001b[1;32m    108\u001b[0m     \u001b[0mtrainloader\u001b[0m \u001b[0;34m=\u001b[0m \u001b[0mDataLoader\u001b[0m\u001b[0;34m(\u001b[0m\u001b[0mdata_train\u001b[0m\u001b[0;34m,\u001b[0m \u001b[0mbatch_size\u001b[0m\u001b[0;34m=\u001b[0m\u001b[0mbatch_size\u001b[0m\u001b[0;34m,\u001b[0m \u001b[0mshuffle\u001b[0m\u001b[0;34m=\u001b[0m\u001b[0;32mTrue\u001b[0m\u001b[0;34m,\u001b[0m \u001b[0mnum_workers\u001b[0m\u001b[0;34m=\u001b[0m\u001b[0;36m2\u001b[0m\u001b[0;34m)\u001b[0m\u001b[0;34m\u001b[0m\u001b[0;34m\u001b[0m\u001b[0m\n",
            "\u001b[0;31mTypeError\u001b[0m: object() takes no parameters"
          ]
        }
      ]
    },
    {
      "cell_type": "code",
      "metadata": {
        "id": "5mEjzGzKlmY8",
        "colab_type": "code",
        "outputId": "7238bec0-0d4e-4cc2-fd58-02a531e2b5a6",
        "colab": {
          "base_uri": "https://localhost:8080/",
          "height": 803
        }
      },
      "source": [
        "def plot(arrays, labels, dim, y_label):\n",
        "    \n",
        "    for arr, label in zip(arrays, labels):\n",
        "\n",
        "        plt.plot(arr[dim], label=label)\n",
        "    plt.legend()\n",
        "    plt.xlabel(\"Steps\")\n",
        "    plt.ylabel(y_label)\n",
        "    plt.show()\n",
        "\n",
        "res_Adagrad = np.load('./res18_Adagrad_64_old.npy',allow_pickle = True)\n",
        "res_Adam = np.load('./res18_Adam_64_old.npy',allow_pickle = True)\n",
        "res_Storm = np.load('./res18_Storm_64.npy', allow_pickle = True)\n",
        "res_SGD = np.load('./res18_SGD_64.npy', allow_pickle = True)\n",
        "\n",
        "optim_results = [res_Adagrad, res_Adam, res_Storm, res_SGD]\n",
        "optim_labels = [\"Adagrad\", \"Adam\", \"STORM\", \"SGD\"]\n",
        "plot(optim_results, optim_labels, 0, \"Loss\")\n",
        "plot(optim_results, optim_labels, 1, \"Train_Accuracy\")\n",
        "plot(optim_results, optim_labels, 2, \"Test_Accuracy\")"
      ],
      "execution_count": 0,
      "outputs": [
        {
          "output_type": "display_data",
          "data": {
            "image/png": "[encoded data removed]",
            "text/plain": [
              "<Figure size 432x288 with 1 Axes>"
            ]
          },
          "metadata": {
            "tags": []
          }
        },
        {
          "output_type": "display_data",
          "data": {
            "image/png": "[encoded data removed]",
            "text/plain": [
              "<Figure size 432x288 with 1 Axes>"
            ]
          },
          "metadata": {
            "tags": []
          }
        },
        {
          "output_type": "display_data",
          "data": {
            "image/png": "[encoded data removed]",
            "text/plain": [
              "<Figure size 432x288 with 1 Axes>"
            ]
          },
          "metadata": {
            "tags": []
          }
        }
      ]
    },
    {
      "cell_type": "code",
      "metadata": {
        "id": "Yucl_g57Y9fy",
        "colab_type": "code",
        "outputId": "e504c88b-4986-4498-ff33-4c85784aa2ca",
        "colab": {
          "base_uri": "https://localhost:8080/",
          "height": 477
        }
      },
      "source": [
        "main()"
      ],
      "execution_count": 0,
      "outputs": [
        {
          "output_type": "stream",
          "text": [
            "Read data\n",
            "data/cifar10/data_batch_1\n",
            "data/cifar10/data_batch_2\n",
            "data/cifar10/data_batch_3\n",
            "data/cifar10/data_batch_4\n",
            "data/cifar10/data_batch_5\n",
            "data/cifar10/test_batch\n",
            "Prepropcess: [subtract mean], [divide std]\n",
            "mean: [125.30723 122.95053 113.86535]\n",
            "std: [62.993362 62.088478 66.70482 ]\n",
            "Test data set shape: (10000, 32, 32, 3)\n",
            "best c is:  30\n",
            "Epoch: 1, Batch: 1, Train Accuracy: 0.034, Test Accuracy: 0.031\n",
            "Epoch: 1, Batch: 101, Train Accuracy: 0.312, Test Accuracy: 0.315\n",
            "Epoch: 1, Batch: 201, Train Accuracy: 0.364, Test Accuracy: 0.363\n",
            "Epoch: 1, Batch: 301, Train Accuracy: 0.4, Test Accuracy: 0.396\n",
            "Epoch: 1, Batch: 401, Train Accuracy: 0.425, Test Accuracy: 0.421\n",
            "Epoch: 1, Batch: 501, Train Accuracy: 0.448, Test Accuracy: 0.433\n",
            "Epoch: 1, Batch: 601, Train Accuracy: 0.466, Test Accuracy: 0.456\n",
            "Epoch: 1, Batch: 701, Train Accuracy: 0.472, Test Accuracy: 0.457\n",
            "Epoch: 2, Batch: 801, Train Accuracy: 0.332, Test Accuracy: 0.337\n",
            "Epoch: 2, Batch: 901, Train Accuracy: 0.428, Test Accuracy: 0.429\n",
            "Epoch: 2, Batch: 1001, Train Accuracy: 0.452, Test Accuracy: 0.449\n",
            "Epoch: 2, Batch: 1101, Train Accuracy: 0.471, Test Accuracy: 0.464\n",
            "Epoch: 2, Batch: 1201, Train Accuracy: 0.494, Test Accuracy: 0.478\n",
            "Epoch: 2, Batch: 1301, Train Accuracy: 0.505, Test Accuracy: 0.497\n",
            "Epoch: 2, Batch: 1401, Train Accuracy: 0.516, Test Accuracy: 0.503\n",
            "Epoch: 2, Batch: 1501, Train Accuracy: 0.527, Test Accuracy: 0.51\n"
          ],
          "name": "stdout"
        }
      ]
    }
  ]
}